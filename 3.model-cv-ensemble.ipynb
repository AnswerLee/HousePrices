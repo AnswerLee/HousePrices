{
 "cells": [
  {
   "cell_type": "code",
   "execution_count": 1,
   "metadata": {
    "collapsed": true
   },
   "outputs": [],
   "source": [
    "import numpy as np\n",
    "import pandas as pd\n",
    "import matplotlib.pyplot as plt\n",
    "import seaborn as sns\n",
    "\n",
    "%matplotlib inline\n",
    "\n",
    "from sklearn.linear_model import ElasticNet, Lasso, Ridge\n",
    "from sklearn.ensemble import GradientBoostingRegressor\n",
    "from sklearn.kernel_ridge import KernelRidge\n",
    "from sklearn.pipeline import make_pipeline,Pipeline\n",
    "from sklearn.preprocessing import RobustScaler\n",
    "from sklearn.base import BaseEstimator, TransformerMixin, RegressorMixin, clone\n",
    "from sklearn.model_selection import KFold, cross_val_score, train_test_split, GridSearchCV\n",
    "from sklearn.metrics import mean_squared_error\n",
    "import xgboost as xgb\n",
    "import lightgbm as lgb\n",
    "\n",
    "import warnings\n",
    "def ignore_warn(*args, **kwargs):\n",
    "    pass\n",
    "warnings.warn = ignore_warn "
   ]
  },
  {
   "cell_type": "code",
   "execution_count": 2,
   "metadata": {},
   "outputs": [
    {
     "data": {
      "text/html": [
       "<div>\n",
       "<style>\n",
       "    .dataframe thead tr:only-child th {\n",
       "        text-align: right;\n",
       "    }\n",
       "\n",
       "    .dataframe thead th {\n",
       "        text-align: left;\n",
       "    }\n",
       "\n",
       "    .dataframe tbody tr th {\n",
       "        vertical-align: top;\n",
       "    }\n",
       "</style>\n",
       "<table border=\"1\" class=\"dataframe\">\n",
       "  <thead>\n",
       "    <tr style=\"text-align: right;\">\n",
       "      <th></th>\n",
       "      <th>1stFlrSF</th>\n",
       "      <th>2ndFlrSF</th>\n",
       "      <th>3SsnPorch</th>\n",
       "      <th>Alley</th>\n",
       "      <th>BedroomAbvGr</th>\n",
       "      <th>BsmtCond</th>\n",
       "      <th>BsmtExposure</th>\n",
       "      <th>BsmtFinSF1</th>\n",
       "      <th>BsmtFinSF2</th>\n",
       "      <th>BsmtFinType1</th>\n",
       "      <th>...</th>\n",
       "      <th>SaleType_ConLw</th>\n",
       "      <th>SaleType_New</th>\n",
       "      <th>SaleType_Oth</th>\n",
       "      <th>SaleType_WD</th>\n",
       "      <th>YrSold_2008</th>\n",
       "      <th>YrSold_2007</th>\n",
       "      <th>YrSold_2006</th>\n",
       "      <th>YrSold_2009</th>\n",
       "      <th>YrSold_2010</th>\n",
       "      <th>SalePrice</th>\n",
       "    </tr>\n",
       "  </thead>\n",
       "  <tbody>\n",
       "    <tr>\n",
       "      <th>0</th>\n",
       "      <td>11.692623</td>\n",
       "      <td>11.686189</td>\n",
       "      <td>0.0</td>\n",
       "      <td>1</td>\n",
       "      <td>3</td>\n",
       "      <td>4</td>\n",
       "      <td>3</td>\n",
       "      <td>11.170327</td>\n",
       "      <td>0.0</td>\n",
       "      <td>2</td>\n",
       "      <td>...</td>\n",
       "      <td>0</td>\n",
       "      <td>0</td>\n",
       "      <td>0</td>\n",
       "      <td>1</td>\n",
       "      <td>1</td>\n",
       "      <td>0</td>\n",
       "      <td>0</td>\n",
       "      <td>0</td>\n",
       "      <td>0</td>\n",
       "      <td>12.247699</td>\n",
       "    </tr>\n",
       "    <tr>\n",
       "      <th>1</th>\n",
       "      <td>12.792276</td>\n",
       "      <td>0.000000</td>\n",
       "      <td>0.0</td>\n",
       "      <td>1</td>\n",
       "      <td>3</td>\n",
       "      <td>4</td>\n",
       "      <td>1</td>\n",
       "      <td>12.062832</td>\n",
       "      <td>0.0</td>\n",
       "      <td>0</td>\n",
       "      <td>...</td>\n",
       "      <td>0</td>\n",
       "      <td>0</td>\n",
       "      <td>0</td>\n",
       "      <td>1</td>\n",
       "      <td>0</td>\n",
       "      <td>1</td>\n",
       "      <td>0</td>\n",
       "      <td>0</td>\n",
       "      <td>0</td>\n",
       "      <td>12.109016</td>\n",
       "    </tr>\n",
       "    <tr>\n",
       "      <th>2</th>\n",
       "      <td>11.892039</td>\n",
       "      <td>11.724598</td>\n",
       "      <td>0.0</td>\n",
       "      <td>1</td>\n",
       "      <td>3</td>\n",
       "      <td>4</td>\n",
       "      <td>2</td>\n",
       "      <td>10.200343</td>\n",
       "      <td>0.0</td>\n",
       "      <td>2</td>\n",
       "      <td>...</td>\n",
       "      <td>0</td>\n",
       "      <td>0</td>\n",
       "      <td>0</td>\n",
       "      <td>1</td>\n",
       "      <td>1</td>\n",
       "      <td>0</td>\n",
       "      <td>0</td>\n",
       "      <td>0</td>\n",
       "      <td>0</td>\n",
       "      <td>12.317171</td>\n",
       "    </tr>\n",
       "    <tr>\n",
       "      <th>3</th>\n",
       "      <td>12.013683</td>\n",
       "      <td>11.354094</td>\n",
       "      <td>0.0</td>\n",
       "      <td>1</td>\n",
       "      <td>3</td>\n",
       "      <td>1</td>\n",
       "      <td>3</td>\n",
       "      <td>8.274266</td>\n",
       "      <td>0.0</td>\n",
       "      <td>0</td>\n",
       "      <td>...</td>\n",
       "      <td>0</td>\n",
       "      <td>0</td>\n",
       "      <td>0</td>\n",
       "      <td>1</td>\n",
       "      <td>0</td>\n",
       "      <td>0</td>\n",
       "      <td>1</td>\n",
       "      <td>0</td>\n",
       "      <td>0</td>\n",
       "      <td>11.849405</td>\n",
       "    </tr>\n",
       "    <tr>\n",
       "      <th>4</th>\n",
       "      <td>12.510588</td>\n",
       "      <td>12.271365</td>\n",
       "      <td>0.0</td>\n",
       "      <td>1</td>\n",
       "      <td>4</td>\n",
       "      <td>4</td>\n",
       "      <td>0</td>\n",
       "      <td>10.971129</td>\n",
       "      <td>0.0</td>\n",
       "      <td>2</td>\n",
       "      <td>...</td>\n",
       "      <td>0</td>\n",
       "      <td>0</td>\n",
       "      <td>0</td>\n",
       "      <td>1</td>\n",
       "      <td>1</td>\n",
       "      <td>0</td>\n",
       "      <td>0</td>\n",
       "      <td>0</td>\n",
       "      <td>0</td>\n",
       "      <td>12.429220</td>\n",
       "    </tr>\n",
       "  </tbody>\n",
       "</table>\n",
       "<p>5 rows × 251 columns</p>\n",
       "</div>"
      ],
      "text/plain": [
       "    1stFlrSF   2ndFlrSF  3SsnPorch  Alley  BedroomAbvGr  BsmtCond  \\\n",
       "0  11.692623  11.686189        0.0      1             3         4   \n",
       "1  12.792276   0.000000        0.0      1             3         4   \n",
       "2  11.892039  11.724598        0.0      1             3         4   \n",
       "3  12.013683  11.354094        0.0      1             3         1   \n",
       "4  12.510588  12.271365        0.0      1             4         4   \n",
       "\n",
       "   BsmtExposure  BsmtFinSF1  BsmtFinSF2  BsmtFinType1    ...      \\\n",
       "0             3   11.170327         0.0             2    ...       \n",
       "1             1   12.062832         0.0             0    ...       \n",
       "2             2   10.200343         0.0             2    ...       \n",
       "3             3    8.274266         0.0             0    ...       \n",
       "4             0   10.971129         0.0             2    ...       \n",
       "\n",
       "   SaleType_ConLw  SaleType_New  SaleType_Oth  SaleType_WD  YrSold_2008  \\\n",
       "0               0             0             0            1            1   \n",
       "1               0             0             0            1            0   \n",
       "2               0             0             0            1            1   \n",
       "3               0             0             0            1            0   \n",
       "4               0             0             0            1            1   \n",
       "\n",
       "   YrSold_2007  YrSold_2006  YrSold_2009  YrSold_2010  SalePrice  \n",
       "0            0            0            0            0  12.247699  \n",
       "1            1            0            0            0  12.109016  \n",
       "2            0            0            0            0  12.317171  \n",
       "3            0            1            0            0  11.849405  \n",
       "4            0            0            0            0  12.429220  \n",
       "\n",
       "[5 rows x 251 columns]"
      ]
     },
     "execution_count": 2,
     "metadata": {},
     "output_type": "execute_result"
    }
   ],
   "source": [
    "train_df = pd.read_csv('./2-train-feature-engineering.csv',header=0)\n",
    "train_df.head()"
   ]
  },
  {
   "cell_type": "code",
   "execution_count": 3,
   "metadata": {},
   "outputs": [
    {
     "data": {
      "text/plain": [
       "(1458, 249)"
      ]
     },
     "execution_count": 3,
     "metadata": {},
     "output_type": "execute_result"
    }
   ],
   "source": [
    "train = train_df.drop(['Id','SalePrice'],axis=1)\n",
    "train.shape"
   ]
  },
  {
   "cell_type": "code",
   "execution_count": 4,
   "metadata": {},
   "outputs": [
    {
     "data": {
      "text/plain": [
       "(1458,)"
      ]
     },
     "execution_count": 4,
     "metadata": {},
     "output_type": "execute_result"
    }
   ],
   "source": [
    "y_train = train_df.SalePrice\n",
    "y_train.shape"
   ]
  },
  {
   "cell_type": "code",
   "execution_count": 5,
   "metadata": {},
   "outputs": [
    {
     "data": {
      "text/html": [
       "<div>\n",
       "<style>\n",
       "    .dataframe thead tr:only-child th {\n",
       "        text-align: right;\n",
       "    }\n",
       "\n",
       "    .dataframe thead th {\n",
       "        text-align: left;\n",
       "    }\n",
       "\n",
       "    .dataframe tbody tr th {\n",
       "        vertical-align: top;\n",
       "    }\n",
       "</style>\n",
       "<table border=\"1\" class=\"dataframe\">\n",
       "  <thead>\n",
       "    <tr style=\"text-align: right;\">\n",
       "      <th></th>\n",
       "      <th>1stFlrSF</th>\n",
       "      <th>2ndFlrSF</th>\n",
       "      <th>3SsnPorch</th>\n",
       "      <th>Alley</th>\n",
       "      <th>BedroomAbvGr</th>\n",
       "      <th>BsmtCond</th>\n",
       "      <th>BsmtExposure</th>\n",
       "      <th>BsmtFinSF1</th>\n",
       "      <th>BsmtFinSF2</th>\n",
       "      <th>BsmtFinType1</th>\n",
       "      <th>...</th>\n",
       "      <th>SaleType_ConLI</th>\n",
       "      <th>SaleType_ConLw</th>\n",
       "      <th>SaleType_New</th>\n",
       "      <th>SaleType_Oth</th>\n",
       "      <th>SaleType_WD</th>\n",
       "      <th>YrSold_2008</th>\n",
       "      <th>YrSold_2007</th>\n",
       "      <th>YrSold_2006</th>\n",
       "      <th>YrSold_2009</th>\n",
       "      <th>YrSold_2010</th>\n",
       "    </tr>\n",
       "  </thead>\n",
       "  <tbody>\n",
       "    <tr>\n",
       "      <th>0</th>\n",
       "      <td>11.818680</td>\n",
       "      <td>0.000000</td>\n",
       "      <td>0.0</td>\n",
       "      <td>1</td>\n",
       "      <td>2</td>\n",
       "      <td>4</td>\n",
       "      <td>3</td>\n",
       "      <td>10.105326</td>\n",
       "      <td>7.397498</td>\n",
       "      <td>5</td>\n",
       "      <td>...</td>\n",
       "      <td>0</td>\n",
       "      <td>0</td>\n",
       "      <td>0</td>\n",
       "      <td>0</td>\n",
       "      <td>1</td>\n",
       "      <td>0</td>\n",
       "      <td>0</td>\n",
       "      <td>0</td>\n",
       "      <td>0</td>\n",
       "      <td>1</td>\n",
       "    </tr>\n",
       "    <tr>\n",
       "      <th>1</th>\n",
       "      <td>12.943735</td>\n",
       "      <td>0.000000</td>\n",
       "      <td>0.0</td>\n",
       "      <td>1</td>\n",
       "      <td>3</td>\n",
       "      <td>4</td>\n",
       "      <td>3</td>\n",
       "      <td>11.901094</td>\n",
       "      <td>0.000000</td>\n",
       "      <td>0</td>\n",
       "      <td>...</td>\n",
       "      <td>0</td>\n",
       "      <td>0</td>\n",
       "      <td>0</td>\n",
       "      <td>0</td>\n",
       "      <td>1</td>\n",
       "      <td>0</td>\n",
       "      <td>0</td>\n",
       "      <td>0</td>\n",
       "      <td>0</td>\n",
       "      <td>1</td>\n",
       "    </tr>\n",
       "    <tr>\n",
       "      <th>2</th>\n",
       "      <td>11.916131</td>\n",
       "      <td>11.151348</td>\n",
       "      <td>0.0</td>\n",
       "      <td>1</td>\n",
       "      <td>3</td>\n",
       "      <td>4</td>\n",
       "      <td>3</td>\n",
       "      <td>11.476685</td>\n",
       "      <td>0.000000</td>\n",
       "      <td>2</td>\n",
       "      <td>...</td>\n",
       "      <td>0</td>\n",
       "      <td>0</td>\n",
       "      <td>0</td>\n",
       "      <td>0</td>\n",
       "      <td>1</td>\n",
       "      <td>0</td>\n",
       "      <td>0</td>\n",
       "      <td>0</td>\n",
       "      <td>0</td>\n",
       "      <td>1</td>\n",
       "    </tr>\n",
       "    <tr>\n",
       "      <th>3</th>\n",
       "      <td>11.910125</td>\n",
       "      <td>11.062536</td>\n",
       "      <td>0.0</td>\n",
       "      <td>1</td>\n",
       "      <td>3</td>\n",
       "      <td>4</td>\n",
       "      <td>3</td>\n",
       "      <td>10.749651</td>\n",
       "      <td>0.000000</td>\n",
       "      <td>2</td>\n",
       "      <td>...</td>\n",
       "      <td>0</td>\n",
       "      <td>0</td>\n",
       "      <td>0</td>\n",
       "      <td>0</td>\n",
       "      <td>1</td>\n",
       "      <td>0</td>\n",
       "      <td>0</td>\n",
       "      <td>0</td>\n",
       "      <td>0</td>\n",
       "      <td>1</td>\n",
       "    </tr>\n",
       "    <tr>\n",
       "      <th>4</th>\n",
       "      <td>12.833625</td>\n",
       "      <td>0.000000</td>\n",
       "      <td>0.0</td>\n",
       "      <td>1</td>\n",
       "      <td>2</td>\n",
       "      <td>4</td>\n",
       "      <td>3</td>\n",
       "      <td>8.720170</td>\n",
       "      <td>0.000000</td>\n",
       "      <td>0</td>\n",
       "      <td>...</td>\n",
       "      <td>0</td>\n",
       "      <td>0</td>\n",
       "      <td>0</td>\n",
       "      <td>0</td>\n",
       "      <td>1</td>\n",
       "      <td>0</td>\n",
       "      <td>0</td>\n",
       "      <td>0</td>\n",
       "      <td>0</td>\n",
       "      <td>1</td>\n",
       "    </tr>\n",
       "  </tbody>\n",
       "</table>\n",
       "<p>5 rows × 250 columns</p>\n",
       "</div>"
      ],
      "text/plain": [
       "    1stFlrSF   2ndFlrSF  3SsnPorch  Alley  BedroomAbvGr  BsmtCond  \\\n",
       "0  11.818680   0.000000        0.0      1             2         4   \n",
       "1  12.943735   0.000000        0.0      1             3         4   \n",
       "2  11.916131  11.151348        0.0      1             3         4   \n",
       "3  11.910125  11.062536        0.0      1             3         4   \n",
       "4  12.833625   0.000000        0.0      1             2         4   \n",
       "\n",
       "   BsmtExposure  BsmtFinSF1  BsmtFinSF2  BsmtFinType1     ...       \\\n",
       "0             3   10.105326    7.397498             5     ...        \n",
       "1             3   11.901094    0.000000             0     ...        \n",
       "2             3   11.476685    0.000000             2     ...        \n",
       "3             3   10.749651    0.000000             2     ...        \n",
       "4             3    8.720170    0.000000             0     ...        \n",
       "\n",
       "   SaleType_ConLI  SaleType_ConLw  SaleType_New  SaleType_Oth  SaleType_WD  \\\n",
       "0               0               0             0             0            1   \n",
       "1               0               0             0             0            1   \n",
       "2               0               0             0             0            1   \n",
       "3               0               0             0             0            1   \n",
       "4               0               0             0             0            1   \n",
       "\n",
       "   YrSold_2008  YrSold_2007  YrSold_2006  YrSold_2009  YrSold_2010  \n",
       "0            0            0            0            0            1  \n",
       "1            0            0            0            0            1  \n",
       "2            0            0            0            0            1  \n",
       "3            0            0            0            0            1  \n",
       "4            0            0            0            0            1  \n",
       "\n",
       "[5 rows x 250 columns]"
      ]
     },
     "execution_count": 5,
     "metadata": {},
     "output_type": "execute_result"
    }
   ],
   "source": [
    "test_df = pd.read_csv('./2-test-feature-engineering.csv')\n",
    "test_df.head()"
   ]
  },
  {
   "cell_type": "code",
   "execution_count": 6,
   "metadata": {},
   "outputs": [
    {
     "data": {
      "text/plain": [
       "(1459, 249)"
      ]
     },
     "execution_count": 6,
     "metadata": {},
     "output_type": "execute_result"
    }
   ],
   "source": [
    "test = test_df.drop(['Id'],axis=1)\n",
    "test.shape"
   ]
  },
  {
   "cell_type": "markdown",
   "metadata": {},
   "source": [
    "### 模型选择"
   ]
  },
  {
   "cell_type": "markdown",
   "metadata": {},
   "source": [
    "预测房价属于回归问题，选用了几个回归模型，通过GridSearchCV暴力寻找最优参数。"
   ]
  },
  {
   "cell_type": "code",
   "execution_count": 7,
   "metadata": {
    "collapsed": true
   },
   "outputs": [],
   "source": [
    "#定义评分标准\n",
    "def rmse(y, y_pred):\n",
    "    return np.sqrt(mean_squared_error(y, y_pred))"
   ]
  },
  {
   "cell_type": "markdown",
   "metadata": {},
   "source": [
    "- Lasso是增加L1正则化项的线性回归模型，对特征相关性较高的数据集，具有稀疏特征的功能，可以抑制过拟合。"
   ]
  },
  {
   "cell_type": "code",
   "execution_count": 9,
   "metadata": {},
   "outputs": [
    {
     "name": "stdout",
     "output_type": "stream",
     "text": [
      "{'lasso__alpha': 0.0005} 0.111470252229\n",
      "                     params  mean_test_score  std_test_score\n",
      "0     {'lasso__alpha': 0.5}         0.399626        0.013581\n",
      "1     {'lasso__alpha': 0.1}         0.226071        0.005620\n",
      "2    {'lasso__alpha': 0.05}         0.176119        0.002294\n",
      "3    {'lasso__alpha': 0.01}         0.129153        0.002050\n",
      "4   {'lasso__alpha': 0.005}         0.124591        0.002268\n",
      "5   {'lasso__alpha': 0.001}         0.113460        0.001631\n",
      "6  {'lasso__alpha': 0.0005}         0.111470        0.001509\n"
     ]
    },
    {
     "data": {
      "text/plain": [
       "0.099834027382049342"
      ]
     },
     "execution_count": 9,
     "metadata": {},
     "output_type": "execute_result"
    }
   ],
   "source": [
    "lasso = Pipeline([('rbs',RobustScaler()),('lasso',Lasso())])\n",
    "params = {'lasso__alpha':[0.5,0.1,0.05,0.01,0.005,0.001,0.0005]}\n",
    "kf = KFold(5, shuffle=True, random_state=42)\n",
    "grid_res = GridSearchCV(lasso,scoring='neg_mean_squared_error',param_grid=params,cv=kf)\n",
    "grid_res.fit(train.values,y_train)\n",
    "print(grid_res.best_params_, np.sqrt(-grid_res.best_score_))\n",
    "grid_res.cv_results_['mean_test_score'] = np.sqrt(-grid_res.cv_results_['mean_test_score'])\n",
    "print(pd.DataFrame(grid_res.cv_results_)[['params','mean_test_score','std_test_score']])\n",
    "grid_best_train_pred = grid_res.best_estimator_.predict(train.values)\n",
    "rmse(y_train,grid_best_train_pred)"
   ]
  },
  {
   "cell_type": "markdown",
   "metadata": {},
   "source": [
    "- Ridge是增加L2正则化项的线性回归，可以抑制过拟合。"
   ]
  },
  {
   "cell_type": "code",
   "execution_count": 10,
   "metadata": {},
   "outputs": [
    {
     "name": "stdout",
     "output_type": "stream",
     "text": [
      "{'ridge__alpha': 10} 0.112911314624\n",
      "                 params  mean_test_score  std_test_score\n",
      "0  {'ridge__alpha': 50}         0.114270        0.001842\n",
      "1  {'ridge__alpha': 30}         0.113389        0.001807\n",
      "2  {'ridge__alpha': 10}         0.112911        0.001755\n",
      "3   {'ridge__alpha': 8}         0.113011        0.001744\n",
      "4   {'ridge__alpha': 5}         0.113443        0.001718\n",
      "5   {'ridge__alpha': 3}         0.114290        0.001695\n",
      "6   {'ridge__alpha': 1}         0.117521        0.001717\n"
     ]
    },
    {
     "data": {
      "text/plain": [
       "0.096620134809426148"
      ]
     },
     "execution_count": 10,
     "metadata": {},
     "output_type": "execute_result"
    }
   ],
   "source": [
    "ridge = Pipeline([('rbs',RobustScaler()),('ridge',Ridge())])\n",
    "params = {'ridge__alpha':[50,30,10,8,5,3,1]}\n",
    "kf = KFold(5, shuffle=True, random_state=42)\n",
    "ridge_grid = GridSearchCV(ridge,param_grid=params,cv=kf,scoring='neg_mean_squared_error')\n",
    "ridge_grid.fit(train.values,y_train)\n",
    "print(ridge_grid.best_params_, np.sqrt(-ridge_grid.best_score_))\n",
    "ridge_grid.cv_results_['mean_test_score'] = np.sqrt(-ridge_grid.cv_results_['mean_test_score'])\n",
    "print(pd.DataFrame(ridge_grid.cv_results_)[['params','mean_test_score','std_test_score']])\n",
    "ridge_grid_train_pred = ridge_grid.best_estimator_.predict(train.values)\n",
    "rmse(y_train,ridge_grid_train_pred)"
   ]
  },
  {
   "cell_type": "markdown",
   "metadata": {},
   "source": [
    "- ElasticNet"
   ]
  },
  {
   "cell_type": "code",
   "execution_count": 11,
   "metadata": {},
   "outputs": [
    {
     "name": "stdout",
     "output_type": "stream",
     "text": [
      "{'enet__alpha': 0.0005, 'enet__l1_ratio': 0.9} 0.111440844985\n",
      "                                            params  mean_test_score  \\\n",
      "0      {'enet__alpha': 0.1, 'enet__l1_ratio': 0.1}         0.132490   \n",
      "1      {'enet__alpha': 0.1, 'enet__l1_ratio': 0.3}         0.156847   \n",
      "2      {'enet__alpha': 0.1, 'enet__l1_ratio': 0.5}         0.178813   \n",
      "3      {'enet__alpha': 0.1, 'enet__l1_ratio': 0.9}         0.215808   \n",
      "4     {'enet__alpha': 0.01, 'enet__l1_ratio': 0.1}         0.114749   \n",
      "5     {'enet__alpha': 0.01, 'enet__l1_ratio': 0.3}         0.120985   \n",
      "6     {'enet__alpha': 0.01, 'enet__l1_ratio': 0.5}         0.124430   \n",
      "7     {'enet__alpha': 0.01, 'enet__l1_ratio': 0.9}         0.128178   \n",
      "8    {'enet__alpha': 0.001, 'enet__l1_ratio': 0.1}         0.113391   \n",
      "9    {'enet__alpha': 0.001, 'enet__l1_ratio': 0.3}         0.111867   \n",
      "10   {'enet__alpha': 0.001, 'enet__l1_ratio': 0.5}         0.111654   \n",
      "11   {'enet__alpha': 0.001, 'enet__l1_ratio': 0.9}         0.112910   \n",
      "12  {'enet__alpha': 0.0005, 'enet__l1_ratio': 0.1}         0.116362   \n",
      "13  {'enet__alpha': 0.0005, 'enet__l1_ratio': 0.3}         0.112926   \n",
      "14  {'enet__alpha': 0.0005, 'enet__l1_ratio': 0.5}         0.111987   \n",
      "15  {'enet__alpha': 0.0005, 'enet__l1_ratio': 0.9}         0.111441   \n",
      "16  {'enet__alpha': 0.0001, 'enet__l1_ratio': 0.1}         0.124297   \n",
      "17  {'enet__alpha': 0.0001, 'enet__l1_ratio': 0.3}         0.121897   \n",
      "18  {'enet__alpha': 0.0001, 'enet__l1_ratio': 0.5}         0.120030   \n",
      "19  {'enet__alpha': 0.0001, 'enet__l1_ratio': 0.9}         0.117001   \n",
      "\n",
      "    std_test_score  \n",
      "0         0.002117  \n",
      "1         0.002148  \n",
      "2         0.002824  \n",
      "3         0.004945  \n",
      "4         0.001773  \n",
      "5         0.002141  \n",
      "6         0.002228  \n",
      "7         0.002064  \n",
      "8         0.001594  \n",
      "9         0.001600  \n",
      "10        0.001551  \n",
      "11        0.001602  \n",
      "12        0.001638  \n",
      "13        0.001573  \n",
      "14        0.001581  \n",
      "15        0.001514  \n",
      "16        0.002144  \n",
      "17        0.001976  \n",
      "18        0.001857  \n",
      "19        0.001638  \n"
     ]
    },
    {
     "data": {
      "text/plain": [
       "0.099230215312877595"
      ]
     },
     "execution_count": 11,
     "metadata": {},
     "output_type": "execute_result"
    }
   ],
   "source": [
    "ENet = Pipeline([('rbs',RobustScaler()),('enet',ElasticNet())])\n",
    "params = {'enet__alpha':[0.1,0.01,0.001,0.0005,0.0001],\n",
    "         'enet__l1_ratio':[0.1,0.3,0.5,0.9]}\n",
    "kf = KFold(5, shuffle=True, random_state=42)\n",
    "ENet_grid = GridSearchCV(ENet,param_grid=params,cv=kf,scoring='neg_mean_squared_error')\n",
    "ENet_grid.fit(train.values,y_train)\n",
    "print(ENet_grid.best_params_, np.sqrt(-ENet_grid.best_score_))\n",
    "ENet_grid.cv_results_['mean_test_score'] = np.sqrt(-ENet_grid.cv_results_['mean_test_score'])\n",
    "print(pd.DataFrame(ENet_grid.cv_results_)[['params','mean_test_score','std_test_score']])\n",
    "ENet_grid_train_pred = ENet_grid.best_estimator_.predict(train.values)\n",
    "rmse(y_train,ENet_grid_train_pred)"
   ]
  },
  {
   "cell_type": "markdown",
   "metadata": {},
   "source": [
    "- KernelRidge"
   ]
  },
  {
   "cell_type": "code",
   "execution_count": 13,
   "metadata": {},
   "outputs": [
    {
     "name": "stdout",
     "output_type": "stream",
     "text": [
      "{'krr__alpha': 0.7} 0.112640395419\n",
      "                params  mean_test_score  std_test_score\n",
      "0  {'krr__alpha': 0.7}         0.112640        0.001752\n",
      "1  {'krr__alpha': 0.8}         0.112915        0.001760\n",
      "2  {'krr__alpha': 0.9}         0.113192        0.001768\n"
     ]
    },
    {
     "data": {
      "text/plain": [
       "0.093872902050172374"
      ]
     },
     "execution_count": 13,
     "metadata": {},
     "output_type": "execute_result"
    }
   ],
   "source": [
    "KRR = Pipeline([('rbs',RobustScaler()),('krr',KernelRidge(kernel='polynomial',degree=2,coef0=2.5))])\n",
    "params = {'krr__alpha':[0.7,0.8,0.9]}\n",
    "kf = KFold(5, shuffle=True, random_state=42)\n",
    "KRR_grid = GridSearchCV(KRR,param_grid=params,cv=kf,scoring='neg_mean_squared_error')\n",
    "KRR_grid.fit(train.values,y_train)\n",
    "print(KRR_grid.best_params_, np.sqrt(-KRR_grid.best_score_))\n",
    "KRR_grid.cv_results_['mean_test_score'] = np.sqrt(-KRR_grid.cv_results_['mean_test_score'])\n",
    "print(pd.DataFrame(KRR_grid.cv_results_)[['params','mean_test_score','std_test_score']])\n",
    "KRR_grid_train_pred = KRR_grid.best_estimator_.predict(train.values)\n",
    "rmse(y_train,KRR_grid_train_pred)"
   ]
  },
  {
   "cell_type": "markdown",
   "metadata": {},
   "source": [
    "根据网格搜索的最优参数，构建回归模型"
   ]
  },
  {
   "cell_type": "code",
   "execution_count": 14,
   "metadata": {
    "collapsed": true
   },
   "outputs": [],
   "source": [
    "#交叉验证 5折\n",
    "n_folds = 5\n",
    "def rmse_cv(model):\n",
    "    kf = KFold(n_folds, shuffle=True, random_state=42)\n",
    "    rmse= np.sqrt(-cross_val_score(model, train.values, y_train, scoring=\"neg_mean_squared_error\", cv = kf))\n",
    "    return(rmse)"
   ]
  },
  {
   "cell_type": "code",
   "execution_count": 15,
   "metadata": {
    "collapsed": true
   },
   "outputs": [],
   "source": [
    "#Lasso\n",
    "lasso = make_pipeline(RobustScaler(), Lasso(alpha =0.0005))"
   ]
  },
  {
   "cell_type": "code",
   "execution_count": 16,
   "metadata": {},
   "outputs": [
    {
     "name": "stdout",
     "output_type": "stream",
     "text": [
      "\n",
      "Lasso score: mean(0.1113) std(0.0069)\n",
      "\n"
     ]
    }
   ],
   "source": [
    "score = rmse_cv(lasso)\n",
    "print(\"\\nLasso score: mean({:.4f}) std({:.4f})\\n\".format(score.mean(), score.std()))"
   ]
  },
  {
   "cell_type": "code",
   "execution_count": 17,
   "metadata": {
    "collapsed": true
   },
   "outputs": [],
   "source": [
    "#Ridge\n",
    "ridge = make_pipeline(RobustScaler(),Ridge(alpha=10))"
   ]
  },
  {
   "cell_type": "code",
   "execution_count": 18,
   "metadata": {},
   "outputs": [
    {
     "name": "stdout",
     "output_type": "stream",
     "text": [
      "\n",
      "Ridge score:mean(0.1126)  std(0.0080)\n",
      "\n"
     ]
    }
   ],
   "source": [
    "score = rmse_cv(ridge)\n",
    "print('\\nRidge score:mean({:.4f})  std({:.4f})\\n'.format(score.mean(),score.std()))"
   ]
  },
  {
   "cell_type": "code",
   "execution_count": 19,
   "metadata": {
    "collapsed": true
   },
   "outputs": [],
   "source": [
    "#ElasticNet\n",
    "ENet = make_pipeline(RobustScaler(),ElasticNet(alpha=0.0005,l1_ratio=.9))"
   ]
  },
  {
   "cell_type": "code",
   "execution_count": 20,
   "metadata": {},
   "outputs": [
    {
     "name": "stdout",
     "output_type": "stream",
     "text": [
      "\n",
      "ENet score:mean(0.1112)  std(0.0069)\n",
      "\n"
     ]
    }
   ],
   "source": [
    "score = rmse_cv(ENet)\n",
    "print('\\nENet score:mean({:.4f})  std({:.4f})\\n'.format(score.mean(),score.std()))"
   ]
  },
  {
   "cell_type": "code",
   "execution_count": 21,
   "metadata": {
    "collapsed": true
   },
   "outputs": [],
   "source": [
    "#KernelRidge\n",
    "KRR = make_pipeline(RobustScaler(), KernelRidge(alpha=0.7, kernel='polynomial', degree=2, coef0=2.5))"
   ]
  },
  {
   "cell_type": "code",
   "execution_count": 22,
   "metadata": {},
   "outputs": [
    {
     "name": "stdout",
     "output_type": "stream",
     "text": [
      "\n",
      " KRR score: 0.1124 (0.0080)\n",
      "\n"
     ]
    }
   ],
   "source": [
    "score = rmse_cv(KRR)\n",
    "print(\"\\n KRR score: {:.4f} ({:.4f})\\n\".format(score.mean(), score.std()))"
   ]
  },
  {
   "cell_type": "code",
   "execution_count": 23,
   "metadata": {
    "collapsed": true
   },
   "outputs": [],
   "source": [
    "#GradientBoostingRegressor 由于Huber loss使得它对于异常值具有鲁棒性\n",
    "GBoost = GradientBoostingRegressor(n_estimators=3000, learning_rate=0.05,\n",
    "                                   max_depth=4, max_features='sqrt',\n",
    "                                   min_samples_leaf=15, min_samples_split=10, \n",
    "                                   loss='huber', random_state =5)"
   ]
  },
  {
   "cell_type": "code",
   "execution_count": 24,
   "metadata": {},
   "outputs": [
    {
     "name": "stdout",
     "output_type": "stream",
     "text": [
      "\n",
      " GBoost score: 0.1171 (0.0100)\n",
      "\n"
     ]
    }
   ],
   "source": [
    "score = rmse_cv(GBoost)\n",
    "print(\"\\n GBoost score: {:.4f} ({:.4f})\\n\".format(score.mean(), score.std()))"
   ]
  },
  {
   "cell_type": "markdown",
   "metadata": {},
   "source": [
    "- 模型融合：Average-Stacking    \n",
    "    采用简单的平均基本模型的方法，构建了一个新类来扩展scikit-learn和模型。"
   ]
  },
  {
   "cell_type": "code",
   "execution_count": 25,
   "metadata": {
    "collapsed": true
   },
   "outputs": [],
   "source": [
    "class AveragingModels(BaseEstimator, RegressorMixin, TransformerMixin):\n",
    "    def __init__(self, models):\n",
    "        self.models = models\n",
    "        \n",
    "    def fit(self, X, y):\n",
    "        self.models_ = [clone(x) for x in self.models]\n",
    "        \n",
    "        # Train cloned base models\n",
    "        for model in self.models_:\n",
    "            model.fit(X, y)\n",
    "\n",
    "        return self\n",
    "    \n",
    "    def predict(self, X):\n",
    "        predictions = np.column_stack([\n",
    "            model.predict(X) for model in self.models_\n",
    "        ])\n",
    "        return np.mean(predictions, axis=1)   "
   ]
  },
  {
   "cell_type": "code",
   "execution_count": 27,
   "metadata": {},
   "outputs": [
    {
     "name": "stdout",
     "output_type": "stream",
     "text": [
      "0.099834027382\n"
     ]
    }
   ],
   "source": [
    "lasso.fit(train.values, y_train)\n",
    "lasso_train_pred = lasso.predict(train.values)\n",
    "lasso_pred = np.expm1(lasso.predict(test.values))\n",
    "print(rmse(y_train, lasso_train_pred))"
   ]
  },
  {
   "cell_type": "code",
   "execution_count": 28,
   "metadata": {},
   "outputs": [
    {
     "name": "stdout",
     "output_type": "stream",
     "text": [
      "0.0966201348094\n"
     ]
    }
   ],
   "source": [
    "ridge.fit(train.values,y_train)\n",
    "ridge_train_pred = ridge.predict(train.values)\n",
    "ridge_pred = np.expm1(ridge.predict(test.values))\n",
    "print(rmse(y_train,ridge_train_pred))"
   ]
  },
  {
   "cell_type": "code",
   "execution_count": 29,
   "metadata": {},
   "outputs": [
    {
     "name": "stdout",
     "output_type": "stream",
     "text": [
      "0.0992302153129\n"
     ]
    }
   ],
   "source": [
    "ENet.fit(train.values,y_train)\n",
    "ENet_train_pred = ENet.predict(train.values)\n",
    "ENet_pred = np.expm1(ENet.predict(test.values))\n",
    "print(rmse(y_train,ENet_train_pred))"
   ]
  },
  {
   "cell_type": "code",
   "execution_count": 30,
   "metadata": {},
   "outputs": [
    {
     "name": "stdout",
     "output_type": "stream",
     "text": [
      "0.0938729020502\n"
     ]
    }
   ],
   "source": [
    "KRR.fit(train.values, y_train)\n",
    "KRR_train_pred = KRR.predict(train.values)\n",
    "KRR_pred = np.expm1(KRR.predict(test.values))\n",
    "print(rmse(y_train, KRR_train_pred))"
   ]
  },
  {
   "cell_type": "code",
   "execution_count": 31,
   "metadata": {},
   "outputs": [
    {
     "name": "stdout",
     "output_type": "stream",
     "text": [
      "0.0504016382037\n"
     ]
    }
   ],
   "source": [
    "GBoost.fit(train.values, y_train)\n",
    "GBoost_train_pred = GBoost.predict(train.values)\n",
    "GBoost_pred = np.expm1(GBoost.predict(test.values))\n",
    "print(rmse(y_train, GBoost_train_pred))"
   ]
  },
  {
   "cell_type": "markdown",
   "metadata": {},
   "source": [
    "平均四个模型ENet，GBoost，KRR和lasso。利用上面重写的方法，我们可以轻松地添加更多的模型："
   ]
  },
  {
   "cell_type": "code",
   "execution_count": 33,
   "metadata": {},
   "outputs": [
    {
     "name": "stdout",
     "output_type": "stream",
     "text": [
      " Averaged base models score: 0.1092 (0.0080)\n",
      "\n"
     ]
    }
   ],
   "source": [
    "averaged_models = AveragingModels(models = (ENet, GBoost,lasso,KRR))\n",
    "\n",
    "score = rmse_cv(averaged_models)\n",
    "print(\" Averaged base models score: {:.4f} ({:.4f})\\n\".format(score.mean(), score.std()))"
   ]
  },
  {
   "cell_type": "code",
   "execution_count": 35,
   "metadata": {},
   "outputs": [
    {
     "name": "stdout",
     "output_type": "stream",
     "text": [
      "0.0819943122008\n"
     ]
    }
   ],
   "source": [
    "averaged_models.fit(train.values, y_train)\n",
    "aver_train_pred = averaged_models.predict(train.values)\n",
    "aver_pred = np.expm1(averaged_models.predict(test.values))\n",
    "print(rmse(y_train, aver_train_pred))"
   ]
  },
  {
   "cell_type": "markdown",
   "metadata": {},
   "source": [
    "使用目前比较火的Xgboost和LightGBM"
   ]
  },
  {
   "cell_type": "code",
   "execution_count": 36,
   "metadata": {},
   "outputs": [],
   "source": [
    "#XGBoost:\n",
    "model_xgb = xgb.XGBRegressor(colsample_bytree=0.4603, gamma=0.0468, \n",
    "                             learning_rate=0.06, max_depth=3, \n",
    "                             min_child_weight=1.7817, n_estimators=2200,\n",
    "                             reg_alpha=0.4640, reg_lambda=0.8571,\n",
    "                             subsample=0.5213, silent=1,\n",
    "                             random_state =7, nthread = -1)"
   ]
  },
  {
   "cell_type": "code",
   "execution_count": 38,
   "metadata": {},
   "outputs": [
    {
     "name": "stdout",
     "output_type": "stream",
     "text": [
      "Xgboost score: 0.1172 (0.0085)\n",
      "\n"
     ]
    }
   ],
   "source": [
    "score = rmse_cv(model_xgb)\n",
    "print(\"Xgboost score: {:.4f} ({:.4f})\\n\".format(score.mean(), score.std()))"
   ]
  },
  {
   "cell_type": "code",
   "execution_count": 39,
   "metadata": {},
   "outputs": [
    {
     "name": "stdout",
     "output_type": "stream",
     "text": [
      "0.079166223058\n"
     ]
    }
   ],
   "source": [
    "#XGBoost:\n",
    "model_xgb.fit(train, y_train)\n",
    "xgb_train_pred = model_xgb.predict(train)\n",
    "xgb_pred = np.expm1(model_xgb.predict(test))\n",
    "print(rmse(y_train, xgb_train_pred))"
   ]
  },
  {
   "cell_type": "code",
   "execution_count": 40,
   "metadata": {
    "collapsed": true
   },
   "outputs": [],
   "source": [
    "model_lgb = lgb.LGBMRegressor(objective='regression',num_leaves=5,\n",
    "                              learning_rate=0.05, n_estimators=720,\n",
    "                              max_bin = 55, bagging_fraction = 0.8,\n",
    "                              bagging_freq = 5, feature_fraction = 0.2319,\n",
    "                              feature_fraction_seed=9, bagging_seed=9,\n",
    "                              min_data_in_leaf =6, min_sum_hessian_in_leaf = 11)"
   ]
  },
  {
   "cell_type": "code",
   "execution_count": 41,
   "metadata": {},
   "outputs": [
    {
     "name": "stdout",
     "output_type": "stream",
     "text": [
      "LGBM score: 0.1176 (0.0084)\n",
      "\n"
     ]
    }
   ],
   "source": [
    "score = rmse_cv(model_lgb)\n",
    "print(\"LGBM score: {:.4f} ({:.4f})\\n\" .format(score.mean(), score.std()))"
   ]
  },
  {
   "cell_type": "code",
   "execution_count": 42,
   "metadata": {},
   "outputs": [
    {
     "name": "stdout",
     "output_type": "stream",
     "text": [
      "0.0730660720136\n"
     ]
    }
   ],
   "source": [
    "#LightGBM:\n",
    "model_lgb.fit(train, y_train)\n",
    "lgb_train_pred = model_lgb.predict(train)\n",
    "lgb_pred = np.expm1(model_lgb.predict(test.values))\n",
    "print(rmse(y_train, lgb_train_pred))"
   ]
  },
  {
   "cell_type": "markdown",
   "metadata": {},
   "source": [
    "将三者进行融合，然后得到Ensemble prediction："
   ]
  },
  {
   "cell_type": "code",
   "execution_count": 43,
   "metadata": {},
   "outputs": [
    {
     "name": "stdout",
     "output_type": "stream",
     "text": [
      "RMSLE score on train data:\n",
      "0.0772755604335\n"
     ]
    }
   ],
   "source": [
    "'''RMSE on the entire Train data when averaging'''\n",
    "\n",
    "print('RMSLE score on train data:')\n",
    "print(rmse(y_train,aver_train_pred*0.65 +\n",
    "               xgb_train_pred*0.1  + lgb_train_pred*0.25))"
   ]
  },
  {
   "cell_type": "code",
   "execution_count": 44,
   "metadata": {
    "collapsed": true
   },
   "outputs": [],
   "source": [
    "ensemble = aver_pred*0.65 + xgb_pred*0.1+lgb_pred*0.25"
   ]
  },
  {
   "cell_type": "markdown",
   "metadata": {},
   "source": [
    "得到待提交的CSV文件："
   ]
  },
  {
   "cell_type": "code",
   "execution_count": 45,
   "metadata": {
    "collapsed": true
   },
   "outputs": [],
   "source": [
    "submission = pd.DataFrame({'Id':test_df.Id,'SalePrice':ensemble})\n",
    "submission.to_csv(\"./submission.csv\", index= False)"
   ]
  }
 ],
 "metadata": {
  "kernelspec": {
   "display_name": "Python 3",
   "language": "python",
   "name": "python3"
  },
  "language_info": {
   "codemirror_mode": {
    "name": "ipython",
    "version": 3
   },
   "file_extension": ".py",
   "mimetype": "text/x-python",
   "name": "python",
   "nbconvert_exporter": "python",
   "pygments_lexer": "ipython3",
   "version": "3.6.1"
  }
 },
 "nbformat": 4,
 "nbformat_minor": 2
}
